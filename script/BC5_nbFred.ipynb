{
 "cells": [
  {
   "cell_type": "code",
   "execution_count": 1,
   "metadata": {},
   "outputs": [],
   "source": [
    "import pandas as pd\n",
    "import numpy as np\n",
    "import datetime as dt\n",
    "\n",
    "import seaborn as sns\n",
    "import matplotlib.pyplot as plt\n",
    "import calmap\n",
    "import plotly.express as px\n",
    "\n",
    "import warnings\n",
    "warnings.filterwarnings('ignore')"
   ]
  },
  {
   "cell_type": "code",
   "execution_count": null,
   "metadata": {},
   "outputs": [],
   "source": [
    "path = r'C:/Users/frede/Documents/GitHub/BC5_Demand_Forecast/data/MindOverData_RetailChallenge.csv'\n",
    "pathPP = r'C:/Users/frede/Documents/GitHub/BC5_Demand_Forecast/data/values_units.csv'"
   ]
  },
  {
   "cell_type": "code",
   "execution_count": null,
   "metadata": {},
   "outputs": [],
   "source": [
    "# 20 M\n",
    "data =  pd.read_csv(path, nrows=1999998)"
   ]
  },
  {
   "cell_type": "code",
   "execution_count": null,
   "metadata": {},
   "outputs": [],
   "source": [
    "#PreProcessing - removing excessive letters from the variables\n",
    "\n",
    "data['ProductFamily_ID'] = data['ProductFamily_ID'].str.split('_').str[1]\n",
    "data['ProductCategory_ID'] = data['ProductCategory_ID'].str.split('_').str[1]\n",
    "data['ProductBrand_ID'] = data['ProductBrand_ID'].str.split('_').str[1]\n",
    "data['ProductName_ID'] = data['ProductName_ID'].str.split('_').str[1]\n",
    "data['ProductPackSKU_ID'] = data['ProductPackSKU_ID'].str.split('_').str[1]\n",
    "data['Point-of-Sale_ID'] = data['Point-of-Sale_ID'].str.split('_').str[1]\n",
    "\n",
    "data['Measures'] = data['Measures'].str.split(' ').str[1]\n",
    "\n",
    "data.head(20)"
   ]
  },
  {
   "cell_type": "code",
   "execution_count": null,
   "metadata": {},
   "outputs": [],
   "source": [
    "data.info()"
   ]
  },
  {
   "cell_type": "code",
   "execution_count": null,
   "metadata": {},
   "outputs": [],
   "source": [
    "data['Date'] = pd.to_datetime(data['Date'])\n",
    "#data = data.sort_values(by='Date')"
   ]
  },
  {
   "cell_type": "code",
   "execution_count": null,
   "metadata": {},
   "outputs": [],
   "source": [
    "# Creating a variable with the day of the week of each purchase\n",
    "\n",
    "data['Day of the Week'] = data['Date'].dt.dayofweek"
   ]
  },
  {
   "cell_type": "code",
   "execution_count": null,
   "metadata": {},
   "outputs": [],
   "source": [
    "# Creating a variable with the correspondent quarter\n",
    "\n",
    "data['Quarter'] = data['Date'].dt.quarter"
   ]
  },
  {
   "cell_type": "code",
   "execution_count": null,
   "metadata": {},
   "outputs": [],
   "source": [
    "# Splitting the dataframe based on Units/ Values\n",
    "\n",
    "data_units = data[data['Measures'] == 'units']\n",
    "data_values = data[data['Measures'] == 'values']"
   ]
  },
  {
   "cell_type": "code",
   "execution_count": null,
   "metadata": {},
   "outputs": [],
   "source": [
    "data_values = data_values.assign(Units=data_units['Value'].values)\n",
    "data_values = data_values.drop(columns='Measures')"
   ]
  },
  {
   "cell_type": "code",
   "execution_count": null,
   "metadata": {},
   "outputs": [],
   "source": [
    "#data_values.to_csv('values_units.csv.gz', compression='gzip')"
   ]
  },
  {
   "cell_type": "markdown",
   "metadata": {},
   "source": [
    "##### Loading the preprocessed dataset"
   ]
  },
  {
   "cell_type": "code",
   "execution_count": null,
   "metadata": {},
   "outputs": [],
   "source": [
    "dataPP =  pd.read_csv(pathPP,  nrows=100000,dtype={'ProductFamily_ID': str, 'Point-of-Sale_ID': str})"
   ]
  },
  {
   "cell_type": "code",
   "execution_count": null,
   "metadata": {},
   "outputs": [],
   "source": [
    "#dataPP[[\"ProductFamily_ID\", \"Point-of-Sale_ID\"]] = dataPP[[\"ProductFamily_ID\", \"Point-of-Sale_ID\"]].astype(str) "
   ]
  },
  {
   "cell_type": "code",
   "execution_count": null,
   "metadata": {},
   "outputs": [],
   "source": [
    "plt.figure(figsize=(12,8))\n",
    "sns.countplot(x=\"Day of the Week\", data=dataPP, color='darkblue')\n",
    "plt.ylabel('Count', fontsize=12)\n",
    "plt.xlabel('Day of the week', fontsize=12)\n",
    "plt.title(\"Frequency of purchase by day of the week\", fontsize=15)\n",
    "plt.show()"
   ]
  },
  {
   "cell_type": "code",
   "execution_count": null,
   "metadata": {},
   "outputs": [],
   "source": [
    "cnt = dataPP['ProductName_ID'].value_counts()[:10]\n",
    "plt.figure(figsize=(12,8))\n",
    "sns.barplot(cnt.values, cnt.index, alpha=0.8, color='gray')\n",
    "plt.xlabel('Number of Occurrences', fontsize=12)\n",
    "plt.ylabel('Product ID', fontsize=12)\n",
    "plt.title(\"Top 10 products\", fontsize=15)\n",
    "plt.show()"
   ]
  },
  {
   "cell_type": "code",
   "execution_count": null,
   "metadata": {},
   "outputs": [],
   "source": [
    "plt.figure(figsize=(12,8))\n",
    "sns.distplot(dataPP['Value'], color='green')\n",
    "plt.xlabel('Value', fontsize=12)\n",
    "plt.ylabel('Density', fontsize=12)\n",
    "plt.show()"
   ]
  },
  {
   "cell_type": "markdown",
   "metadata": {},
   "source": [
    "### Point-of-sale"
   ]
  },
  {
   "cell_type": "markdown",
   "metadata": {},
   "source": [
    "####  Quarterly analysis\n",
    "###### January, February, and March (Q1)\n",
    "###### April, May, and June (Q2)\n",
    "###### July, August, and September (Q3)\n",
    "###### October, November, and December (Q4)"
   ]
  },
  {
   "cell_type": "code",
   "execution_count": null,
   "metadata": {},
   "outputs": [],
   "source": [
    "fig = px.line(dataPP.sort_values(by='Date'), x=\"Date\", y=\"Value\")\n",
    "fig.show()"
   ]
  },
  {
   "cell_type": "code",
   "execution_count": null,
   "metadata": {},
   "outputs": [],
   "source": [
    "fig = px.bar(data_values, x=\"total_bill\", y=\"day\", orientation='h')\n",
    "fig.show()"
   ]
  },
  {
   "cell_type": "markdown",
   "metadata": {},
   "source": [
    "#### Association rules"
   ]
  },
  {
   "cell_type": "code",
   "execution_count": null,
   "metadata": {},
   "outputs": [],
   "source": [
    "dataPP =  pd.read_csv(pathPP,  nrows=1000000,dtype={'ProductFamily_ID': str, 'Point-of-Sale_ID': str})"
   ]
  },
  {
   "cell_type": "code",
   "execution_count": null,
   "metadata": {},
   "outputs": [],
   "source": [
    "dataPP.info()"
   ]
  },
  {
   "cell_type": "code",
   "execution_count": null,
   "metadata": {},
   "outputs": [],
   "source": [
    "dataPP['TID'] = dataPP['ProductFamily_ID'] + dataPP['Point-of-Sale_ID'] + ' ' + dataPP['Date']"
   ]
  },
  {
   "cell_type": "code",
   "execution_count": null,
   "metadata": {},
   "outputs": [],
   "source": [
    "dataPP.head()"
   ]
  },
  {
   "cell_type": "code",
   "execution_count": null,
   "metadata": {},
   "outputs": [],
   "source": [
    "fam = pd.pivot_table(dataPP, index='TID', columns='ProductName_ID', \n",
    "                    aggfunc=lambda x: 1 if len(x)>0 else 0).fillna(0)"
   ]
  },
  {
   "cell_type": "code",
   "execution_count": null,
   "metadata": {},
   "outputs": [],
   "source": [
    "#fam.to_csv('fam_sample.csv.gz', compression='gzip')"
   ]
  },
  {
   "cell_type": "code",
   "execution_count": null,
   "metadata": {},
   "outputs": [],
   "source": [
    "from mlxtend.frequent_patterns import apriori\n",
    "from mlxtend.frequent_patterns import association_rules\n",
    "\n",
    "frequent_itemsets = apriori(fam, min_support=0.04, use_colnames=True)\n",
    "frequent_itemsets.head()"
   ]
  },
  {
   "cell_type": "code",
   "execution_count": null,
   "metadata": {},
   "outputs": [],
   "source": []
  }
 ],
 "metadata": {
  "kernelspec": {
   "display_name": "Python 3",
   "language": "python",
   "name": "python3"
  },
  "language_info": {
   "codemirror_mode": {
    "name": "ipython",
    "version": 3
   },
   "file_extension": ".py",
   "mimetype": "text/x-python",
   "name": "python",
   "nbconvert_exporter": "python",
   "pygments_lexer": "ipython3",
   "version": "3.8.5"
  }
 },
 "nbformat": 4,
 "nbformat_minor": 4
}
