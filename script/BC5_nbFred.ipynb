{
 "cells": [
  {
   "cell_type": "code",
   "execution_count": 1,
   "metadata": {},
   "outputs": [],
   "source": [
    "import pandas as pd\n",
    "from datetime import datetime\n",
    "import numpy as np\n",
    "import datetime as dt\n",
    "\n",
    "import seaborn as sns\n",
    "import matplotlib.pyplot as plt\n",
    "import calmap\n",
    "import plotly.express as px\n",
    "import plotly.graph_objects as go\n",
    "\n",
    "from mlxtend.frequent_patterns import apriori\n",
    "from mlxtend.frequent_patterns import association_rules\n",
    "\n",
    "\n",
    "import warnings\n",
    "warnings.filterwarnings('ignore')"
   ]
  },
  {
   "cell_type": "code",
   "execution_count": 2,
   "metadata": {},
   "outputs": [],
   "source": [
    "path = r'C:/Users/frede/Documents/GitHub/BC5_Demand_Forecast/data/MindOverData_RetailChallenge.csv'\n",
    "pathPP = r'C:/Users/frede/Documents/GitHub/BC5_Demand_Forecast/data/values_units.csv'"
   ]
  },
  {
   "cell_type": "code",
   "execution_count": null,
   "metadata": {},
   "outputs": [],
   "source": [
    "# 20 M\n",
    "data =  pd.read_csv(path, nrows=1999998)"
   ]
  },
  {
   "cell_type": "code",
   "execution_count": null,
   "metadata": {},
   "outputs": [],
   "source": [
    "#PreProcessing - removing excessive letters from the variables\n",
    "\n",
    "data['ProductFamily_ID'] = data['ProductFamily_ID'].str.split('_').str[1]\n",
    "data['ProductCategory_ID'] = data['ProductCategory_ID'].str.split('_').str[1]\n",
    "data['ProductBrand_ID'] = data['ProductBrand_ID'].str.split('_').str[1]\n",
    "data['ProductName_ID'] = data['ProductName_ID'].str.split('_').str[1]\n",
    "data['ProductPackSKU_ID'] = data['ProductPackSKU_ID'].str.split('_').str[1]\n",
    "data['Point-of-Sale_ID'] = data['Point-of-Sale_ID'].str.split('_').str[1]\n",
    "\n",
    "data['Measures'] = data['Measures'].str.split(' ').str[1]\n",
    "\n",
    "data.head(20)"
   ]
  },
  {
   "cell_type": "code",
   "execution_count": null,
   "metadata": {},
   "outputs": [],
   "source": [
    "data.info()"
   ]
  },
  {
   "cell_type": "code",
   "execution_count": null,
   "metadata": {},
   "outputs": [],
   "source": [
    "data['Date'] = pd.to_datetime(data['Date'])\n",
    "#data = data.sort_values(by='Date')"
   ]
  },
  {
   "cell_type": "code",
   "execution_count": null,
   "metadata": {},
   "outputs": [],
   "source": [
    "# Creating a variable with the day of the week of each purchase\n",
    "\n",
    "data['Day of the Week'] = data['Date'].dt.dayofweek"
   ]
  },
  {
   "cell_type": "code",
   "execution_count": null,
   "metadata": {},
   "outputs": [],
   "source": [
    "# Creating a variable with the correspondent quarter\n",
    "\n",
    "data['Quarter'] = data['Date'].dt.quarter"
   ]
  },
  {
   "cell_type": "code",
   "execution_count": null,
   "metadata": {},
   "outputs": [],
   "source": [
    "# Splitting the dataframe based on Units/ Values\n",
    "\n",
    "data_units = data[data['Measures'] == 'units']\n",
    "data_values = data[data['Measures'] == 'values']"
   ]
  },
  {
   "cell_type": "code",
   "execution_count": null,
   "metadata": {},
   "outputs": [],
   "source": [
    "data_values = data_values.assign(Units=data_units['Value'].values)\n",
    "data_values = data_values.drop(columns='Measures')"
   ]
  },
  {
   "cell_type": "code",
   "execution_count": null,
   "metadata": {},
   "outputs": [],
   "source": [
    "#data_values.to_csv('values_units.csv.gz', compression='gzip')"
   ]
  },
  {
   "cell_type": "markdown",
   "metadata": {},
   "source": [
    "##### Loading the preprocessed dataset"
   ]
  },
  {
   "cell_type": "code",
   "execution_count": null,
   "metadata": {},
   "outputs": [],
   "source": [
    "dataPP =  pd.read_csv(pathPP,  nrows=100000,dtype={'ProductFamily_ID': str, 'Point-of-Sale_ID': str})"
   ]
  },
  {
   "cell_type": "code",
   "execution_count": null,
   "metadata": {},
   "outputs": [],
   "source": [
    "#dataPP[[\"ProductFamily_ID\", \"Point-of-Sale_ID\"]] = dataPP[[\"ProductFamily_ID\", \"Point-of-Sale_ID\"]].astype(str) "
   ]
  },
  {
   "cell_type": "code",
   "execution_count": null,
   "metadata": {},
   "outputs": [],
   "source": [
    "plt.figure(figsize=(12,8))\n",
    "sns.countplot(x=\"Day of the Week\", data=dataPP, color='darkblue')\n",
    "plt.ylabel('Count', fontsize=12)\n",
    "plt.xlabel('Day of the week', fontsize=12)\n",
    "plt.title(\"Frequency of purchase by day of the week\", fontsize=15)\n",
    "plt.show()"
   ]
  },
  {
   "cell_type": "code",
   "execution_count": null,
   "metadata": {},
   "outputs": [],
   "source": [
    "cnt = dataPP['ProductName_ID'].value_counts()[:10]\n",
    "plt.figure(figsize=(12,8))\n",
    "sns.barplot(cnt.values, cnt.index, alpha=0.8, color='gray')\n",
    "plt.xlabel('Number of Occurrences', fontsize=12)\n",
    "plt.ylabel('Product ID', fontsize=12)\n",
    "plt.title(\"Top 10 products\", fontsize=15)\n",
    "plt.show()"
   ]
  },
  {
   "cell_type": "code",
   "execution_count": null,
   "metadata": {},
   "outputs": [],
   "source": [
    "plt.figure(figsize=(12,8))\n",
    "sns.distplot(dataPP['Value'], color='green')\n",
    "plt.xlabel('Value', fontsize=12)\n",
    "plt.ylabel('Density', fontsize=12)\n",
    "plt.show()"
   ]
  },
  {
   "cell_type": "markdown",
   "metadata": {},
   "source": [
    "### Point-of-sale"
   ]
  },
  {
   "cell_type": "markdown",
   "metadata": {},
   "source": [
    "####  Quarterly analysis\n",
    "###### January, February, and March (Q1)\n",
    "###### April, May, and June (Q2)\n",
    "###### July, August, and September (Q3)\n",
    "###### October, November, and December (Q4)"
   ]
  },
  {
   "cell_type": "code",
   "execution_count": null,
   "metadata": {},
   "outputs": [],
   "source": [
    "fig = px.line(dataPP.sort_values(by='Date'), x=\"Date\", y=\"Value\")\n",
    "fig.show()"
   ]
  },
  {
   "cell_type": "code",
   "execution_count": null,
   "metadata": {},
   "outputs": [],
   "source": [
    "fig = px.bar(data_values, x=\"total_bill\", y=\"day\", orientation='h')\n",
    "fig.show()"
   ]
  },
  {
   "cell_type": "markdown",
   "metadata": {},
   "source": [
    "#### Association rules"
   ]
  },
  {
   "cell_type": "code",
   "execution_count": 4,
   "metadata": {},
   "outputs": [],
   "source": [
    "#USAR \n",
    "col_list = [\"ProductFamily_ID\", \"Point-of-Sale_ID\",\"ProductName_ID\",\"Units\",\"Date\",\"Quarter\"]\n",
    "dataPP =  pd.read_csv(pathPP, usecols=col_list, nrows=1000000,dtype={'ProductFamily_ID': str, 'Point-of-Sale_ID': str, 'ProductName_ID': str})"
   ]
  },
  {
   "cell_type": "code",
   "execution_count": 5,
   "metadata": {
    "scrolled": true
   },
   "outputs": [
    {
     "name": "stdout",
     "output_type": "stream",
     "text": [
      "<class 'pandas.core.frame.DataFrame'>\n",
      "RangeIndex: 1000000 entries, 0 to 999999\n",
      "Data columns (total 5 columns):\n",
      " #   Column            Non-Null Count    Dtype  \n",
      "---  ------            --------------    -----  \n",
      " 0   ProductFamily_ID  1000000 non-null  object \n",
      " 1   ProductName_ID    1000000 non-null  object \n",
      " 2   Point-of-Sale_ID  1000000 non-null  object \n",
      " 3   Date              1000000 non-null  object \n",
      " 4   Units             1000000 non-null  float64\n",
      "dtypes: float64(1), object(4)\n",
      "memory usage: 38.1+ MB\n"
     ]
    }
   ],
   "source": [
    "dataPP.info()"
   ]
  },
  {
   "cell_type": "code",
   "execution_count": 7,
   "metadata": {},
   "outputs": [],
   "source": [
    "dataPP['Date']= pd.to_datetime(dataPP['Date'])\n",
    "dataPP['year'] = pd.DatetimeIndex(dataPP['Date']).year"
   ]
  },
  {
   "cell_type": "code",
   "execution_count": 8,
   "metadata": {},
   "outputs": [],
   "source": [
    "dataPP['Date'] = dataPP['Date'].astype(str)\n",
    "\n",
    "dataPP['TID'] = dataPP['ProductFamily_ID'] + dataPP['Point-of-Sale_ID'] + ' ' + dataPP['Date']"
   ]
  },
  {
   "cell_type": "code",
   "execution_count": null,
   "metadata": {},
   "outputs": [],
   "source": [
    "# Selecionar Year / Date / PoS\n",
    "fam =  dataPP[(dataPP['Point-of-Sale_ID'] == '1') & (dataPP['Quarter'] == 1) & (dataPP['Year'] == '2016')]"
   ]
  },
  {
   "cell_type": "code",
   "execution_count": null,
   "metadata": {},
   "outputs": [],
   "source": [
    "fam = fam[['ProductName_ID','TID']]"
   ]
  },
  {
   "cell_type": "code",
   "execution_count": null,
   "metadata": {},
   "outputs": [],
   "source": [
    "fam_pivot = pd.pivot_table(fam, index='TID', columns='ProductName_ID', \n",
    "                    aggfunc=lambda x: 1 if len(x)>0 else 0).fillna(0)"
   ]
  },
  {
   "cell_type": "code",
   "execution_count": null,
   "metadata": {},
   "outputs": [],
   "source": [
    "fam_pivot"
   ]
  },
  {
   "cell_type": "code",
   "execution_count": null,
   "metadata": {},
   "outputs": [],
   "source": [
    "#fam.to_csv('fam_sample.csv.gz', compression='gzip')"
   ]
  },
  {
   "cell_type": "code",
   "execution_count": null,
   "metadata": {},
   "outputs": [],
   "source": [
    "frequent_itemsets = apriori(fam_pivot, min_support=0.05, use_colnames=True)\n",
    "frequent_itemsets.head()"
   ]
  },
  {
   "cell_type": "code",
   "execution_count": null,
   "metadata": {},
   "outputs": [],
   "source": [
    "# Generate the association rules - by confidence\n",
    "rulesConfidence = association_rules(frequent_itemsets, metric=\"confidence\", min_threshold=0.50)\n",
    "rulesConfidence.sort_values(by='confidence', ascending=False, inplace=True)\n",
    "rulesConfidence.head()"
   ]
  },
  {
   "cell_type": "code",
   "execution_count": null,
   "metadata": {},
   "outputs": [],
   "source": [
    "# Generate the association rules - by lift\n",
    "rulesLift = association_rules(frequent_itemsets, metric=\"lift\", min_threshold=1.5)\n",
    "rulesLift.sort_values(by='lift', ascending=False, inplace=True)\n",
    "rulesLift.head()"
   ]
  },
  {
   "cell_type": "code",
   "execution_count": null,
   "metadata": {},
   "outputs": [],
   "source": [
    "data_scatter = dict(type='scatter',\n",
    "    y=rulesConfidence['confidence'][:10],\n",
    "    x=rulesConfidence['support'][:10],\n",
    "    #text=rulesLift.consequents,\n",
    "    #mode='markers',\n",
    "    #marker=dict(\n",
    "    #size=rulesLift['support'],\n",
    "    hovertemplate='Lift: ' + rulesLift[\"lift\"].astype(str) + '<br>'+\n",
    "                    'Confidence: ' + rulesLift['confidence'].astype(str) + '<br>'+\n",
    "                    'Support: ' + rulesLift['support'].astype(str) + '<br>'+    \n",
    "                    'Antecedents: ' + rulesLift['antecedents'].astype(str) + '<br>'+\n",
    "                    'Consequents: ' + rulesLift['consequents'].astype(str) + '<br>'\n",
    "    '<extra></extra>',\n",
    "    mode='markers',\n",
    "    marker=dict(size=8,\n",
    "                color=rulesLift['lift'],\n",
    "                colorscale='dense',\n",
    "                showscale=True,\n",
    "                line_width=2),\n",
    "    )\n",
    "\n",
    "\n",
    "fig = go.Figure(data=data_scatter)\n",
    "fig.show()"
   ]
  },
  {
   "cell_type": "code",
   "execution_count": null,
   "metadata": {},
   "outputs": [],
   "source": []
  }
 ],
 "metadata": {
  "kernelspec": {
   "display_name": "Python 3",
   "language": "python",
   "name": "python3"
  },
  "language_info": {
   "codemirror_mode": {
    "name": "ipython",
    "version": 3
   },
   "file_extension": ".py",
   "mimetype": "text/x-python",
   "name": "python",
   "nbconvert_exporter": "python",
   "pygments_lexer": "ipython3",
   "version": "3.8.5"
  }
 },
 "nbformat": 4,
 "nbformat_minor": 4
}
